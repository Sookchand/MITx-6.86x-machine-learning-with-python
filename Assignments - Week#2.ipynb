{
  "nbformat": 4,
  "nbformat_minor": 0,
  "metadata": {
    "colab": {
      "name": "Untitled1.ipynb",
      "provenance": [],
      "authorship_tag": "ABX9TyMZqK5G98B5wWrMb2piGoVJ",
      "include_colab_link": true
    },
    "kernelspec": {
      "name": "python3",
      "display_name": "Python 3"
    }
  },
  "cells": [
    {
      "cell_type": "markdown",
      "metadata": {
        "id": "view-in-github",
        "colab_type": "text"
      },
      "source": [
        "<a href=\"https://colab.research.google.com/github/mlaricobar/MITx-6.86x-machine-learning-with-python/blob/master/Assignments%20-%20Week%232.ipynb\" target=\"_parent\"><img src=\"https://colab.research.google.com/assets/colab-badge.svg\" alt=\"Open In Colab\"/></a>"
      ]
    },
    {
      "cell_type": "code",
      "metadata": {
        "id": "9gKt1uYV_edh",
        "colab_type": "code",
        "colab": {
          "base_uri": "https://localhost:8080/",
          "height": 34
        },
        "outputId": "fd625d99-81e4-4906-9777-2cb91f12d0e0"
      },
      "source": [
        "from google.colab import drive\n",
        "drive.mount('/gdrive')"
      ],
      "execution_count": 1,
      "outputs": [
        {
          "output_type": "stream",
          "text": [
            "Mounted at /gdrive\n"
          ],
          "name": "stdout"
        }
      ]
    },
    {
      "cell_type": "code",
      "metadata": {
        "id": "iSFaLIry_zyq",
        "colab_type": "code",
        "colab": {
          "base_uri": "https://localhost:8080/",
          "height": 34
        },
        "outputId": "9837690c-01ba-4eff-d792-a2c04fa964a4"
      },
      "source": [
        "%cd /gdrive/'My Drive'/Capacitaciones/'[02] MIT Micromaster'/'[04] Machine Learning'/'[02] Week #2'"
      ],
      "execution_count": 7,
      "outputs": [
        {
          "output_type": "stream",
          "text": [
            "/gdrive/My Drive/Capacitaciones/[02] MIT Micromaster/[04] Machine Learning/[02] Week #2\n"
          ],
          "name": "stdout"
        }
      ]
    },
    {
      "cell_type": "code",
      "metadata": {
        "id": "s0P6DOKkD-94",
        "colab_type": "code",
        "colab": {
          "base_uri": "https://localhost:8080/",
          "height": 289
        },
        "outputId": "56e6099f-a4b0-414d-d554-49b0898ae334"
      },
      "source": [
        "!tar xvzf resources_project0.tar.gz"
      ],
      "execution_count": 9,
      "outputs": [
        {
          "output_type": "stream",
          "text": [
            "project0/\n",
            "project0/debug.py\n",
            "tar: Ignoring unknown extended header keyword 'SCHILY.dev'\n",
            "tar: Ignoring unknown extended header keyword 'SCHILY.ino'\n",
            "tar: Ignoring unknown extended header keyword 'SCHILY.nlink'\n",
            "project0/debug.py’.bak’\n",
            "project0/main.py\n",
            "tar: Ignoring unknown extended header keyword 'SCHILY.dev'\n",
            "tar: Ignoring unknown extended header keyword 'SCHILY.ino'\n",
            "tar: Ignoring unknown extended header keyword 'SCHILY.nlink'\n",
            "project0/main.py’.bak’\n",
            "project0/test.py\n",
            "tar: Ignoring unknown extended header keyword 'SCHILY.dev'\n",
            "tar: Ignoring unknown extended header keyword 'SCHILY.ino'\n",
            "tar: Ignoring unknown extended header keyword 'SCHILY.nlink'\n",
            "project0/test.py’.bak’\n"
          ],
          "name": "stdout"
        }
      ]
    },
    {
      "cell_type": "code",
      "metadata": {
        "id": "YfYkWjyuJTRb",
        "colab_type": "code",
        "colab": {
          "base_uri": "https://localhost:8080/",
          "height": 136
        },
        "outputId": "895f734e-d0fe-4307-8d9f-3bbe2d96ffa2"
      },
      "source": [
        "!ls -l project0"
      ],
      "execution_count": 11,
      "outputs": [
        {
          "output_type": "stream",
          "text": [
            "total 9\n",
            "-rw------- 1 root root  824 May  4 14:37 debug.py\n",
            "-rw------- 1 root root  881 May  4 14:37 debug.py’.bak’\n",
            "-rw------- 1 root root 1696 May  4 14:37 main.py\n",
            "-rw------- 1 root root 2038 May  4 14:37 main.py’.bak’\n",
            "-rw------- 1 root root 1446 May  4 14:37 test.py\n",
            "-rw------- 1 root root 1446 May  4 14:37 test.py’.bak’\n"
          ],
          "name": "stdout"
        }
      ]
    },
    {
      "cell_type": "code",
      "metadata": {
        "id": "lRpa9WrEuOh9",
        "colab_type": "code",
        "colab": {}
      },
      "source": [
        "import numpy as np"
      ],
      "execution_count": 1,
      "outputs": []
    },
    {
      "cell_type": "code",
      "metadata": {
        "id": "CBbzSZTtJWjQ",
        "colab_type": "code",
        "colab": {}
      },
      "source": [
        "def randomization(n):\n",
        "    \"\"\"\n",
        "    Arg:\n",
        "      n - an integer\n",
        "    Returns:\n",
        "      A - a randomly-generated nx1 Numpy array.\n",
        "    \"\"\"\n",
        "    #Your code here\n",
        "    return np.random.random([n,1])"
      ],
      "execution_count": 4,
      "outputs": []
    },
    {
      "cell_type": "code",
      "metadata": {
        "id": "mafSP67xuN_U",
        "colab_type": "code",
        "colab": {
          "base_uri": "https://localhost:8080/",
          "height": 85
        },
        "outputId": "57e98a60-4df7-4f0e-eb67-9c67b3ac3aef"
      },
      "source": [
        "randomization(4)"
      ],
      "execution_count": 5,
      "outputs": [
        {
          "output_type": "execute_result",
          "data": {
            "text/plain": [
              "array([[0.64744255],\n",
              "       [0.03649991],\n",
              "       [0.1258    ],\n",
              "       [0.97062468]])"
            ]
          },
          "metadata": {
            "tags": []
          },
          "execution_count": 5
        }
      ]
    },
    {
      "cell_type": "code",
      "metadata": {
        "id": "ceG2PKp-uRZ9",
        "colab_type": "code",
        "colab": {}
      },
      "source": [
        "def operations(h, w):\n",
        "    \"\"\"\n",
        "    Takes two inputs, h and w, and makes two Numpy arrays A and B of size\n",
        "    h x w, and returns A, B, and s, the sum of A and B.\n",
        "\n",
        "    Arg:\n",
        "      h - an integer describing the height of A and B\n",
        "      w - an integer describing the width of A and B\n",
        "    Returns (in this order):\n",
        "      A - a randomly-generated h x w Numpy array.\n",
        "      B - a randomly-generated h x w Numpy array.\n",
        "      s - the sum of A and B.\n",
        "    \"\"\"\n",
        "    #Your code here\n",
        "    A = np.random.random([h, w])\n",
        "    B = np.random.random([h, w])\n",
        "    s = A + B\n",
        "    return A, B, s\n"
      ],
      "execution_count": 7,
      "outputs": []
    },
    {
      "cell_type": "code",
      "metadata": {
        "id": "nJofVdFgvi-C",
        "colab_type": "code",
        "colab": {
          "base_uri": "https://localhost:8080/",
          "height": 68
        },
        "outputId": "f157dd45-b083-44cb-ba84-ee2f6a57880b"
      },
      "source": [
        "operations(1, 2)"
      ],
      "execution_count": 9,
      "outputs": [
        {
          "output_type": "execute_result",
          "data": {
            "text/plain": [
              "(array([[0.85851553, 0.99201145]]),\n",
              " array([[0.71938424, 0.50222813]]),\n",
              " array([[1.57789977, 1.49423958]]))"
            ]
          },
          "metadata": {
            "tags": []
          },
          "execution_count": 9
        }
      ]
    },
    {
      "cell_type": "code",
      "metadata": {
        "id": "Ry1L-l_9vl9j",
        "colab_type": "code",
        "colab": {}
      },
      "source": [
        "def norm(A, B):\n",
        "    \"\"\"\n",
        "    Takes two Numpy column arrays, A and B, and returns the L2 norm of their\n",
        "    sum.\n",
        "\n",
        "    Arg:\n",
        "      A - a Numpy array\n",
        "      B - a Numpy array\n",
        "    Returns:\n",
        "      s - the L2 norm of A+B.\n",
        "    \"\"\"\n",
        "    #Your code here\n",
        "    return np.linalg.norm(A + B)\n"
      ],
      "execution_count": 13,
      "outputs": []
    },
    {
      "cell_type": "code",
      "metadata": {
        "id": "rdPsQQiYwp4-",
        "colab_type": "code",
        "colab": {
          "base_uri": "https://localhost:8080/",
          "height": 34
        },
        "outputId": "564fbb2f-2de6-4974-8048-a6e562aed877"
      },
      "source": [
        "norm(np.random.random([1,5]), np.random.random([1,5]))"
      ],
      "execution_count": 15,
      "outputs": [
        {
          "output_type": "execute_result",
          "data": {
            "text/plain": [
              "2.7522346965440208"
            ]
          },
          "metadata": {
            "tags": []
          },
          "execution_count": 15
        }
      ]
    },
    {
      "cell_type": "code",
      "metadata": {
        "id": "IkACJ88Twpz4",
        "colab_type": "code",
        "colab": {}
      },
      "source": [
        "def neural_network(inputs, weights):\n",
        "    \"\"\"\n",
        "     Takes an input vector and runs it through a 1-layer neural network\n",
        "     with a given weight matrix and returns the output.\n",
        "\n",
        "     Arg:\n",
        "       inputs - 2 x 1 NumPy array\n",
        "       weights - 2 x 1 NumPy array\n",
        "     Returns (in this order):\n",
        "       out - a 1 x 1 NumPy array, representing the output of the neural network\n",
        "    \"\"\"\n",
        "    #Your code here\n",
        "    return np.tanh(np.matmul(weights.T, inputs))"
      ],
      "execution_count": null,
      "outputs": []
    },
    {
      "cell_type": "code",
      "metadata": {
        "id": "L8bap9X7z0tv",
        "colab_type": "code",
        "colab": {}
      },
      "source": [
        "neural_network(np.random.random([2, 1]).T, np.random.random([2, 1]))"
      ],
      "execution_count": null,
      "outputs": []
    },
    {
      "cell_type": "code",
      "metadata": {
        "id": "M7vl9HWSz65L",
        "colab_type": "code",
        "colab": {}
      },
      "source": [
        ""
      ],
      "execution_count": null,
      "outputs": []
    }
  ]
}