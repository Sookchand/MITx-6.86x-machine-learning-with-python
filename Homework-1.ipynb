{
  "nbformat": 4,
  "nbformat_minor": 0,
  "metadata": {
    "colab": {
      "name": "Welcome To Colaboratory",
      "provenance": [],
      "collapsed_sections": [],
      "include_colab_link": true
    },
    "kernelspec": {
      "display_name": "Python 3",
      "name": "python3"
    }
  },
  "cells": [
    {
      "cell_type": "markdown",
      "metadata": {
        "id": "view-in-github",
        "colab_type": "text"
      },
      "source": [
        "<a href=\"https://colab.research.google.com/github/mlaricobar/MITx-6.86x-machine-learning-with-python/blob/master/Homework-1.ipynb\" target=\"_parent\"><img src=\"https://colab.research.google.com/assets/colab-badge.svg\" alt=\"Open In Colab\"/></a>"
      ]
    },
    {
      "cell_type": "markdown",
      "metadata": {
        "id": "4qZkiXZL0mmd"
      },
      "source": [
        "# Perceptron\n",
        "\n",
        "𝑖 \t 𝑥(𝑖) \t 𝑦(𝑖) \ttimes misclassified\n",
        "1\t[-4, 2]\t+1\t1\n",
        "2\t[-2, 1]\t+1\t0\n",
        "3\t[-1, -1]\t-1\t2\n",
        "4\t[2, 2]\t-1\t1\n",
        "5\t[1, -2]\t-1\t0"
      ]
    },
    {
      "cell_type": "code",
      "metadata": {
        "id": "0VwIHj4W0UMl"
      },
      "source": [
        "data = [([-4, 2], 1), ([-2, 1], 1), ([-1, -1], -1), ([2, 2], -1), ([1, -2], -1)]"
      ],
      "execution_count": 3,
      "outputs": []
    },
    {
      "cell_type": "code",
      "metadata": {
        "id": "dsYIZwtg0jLv",
        "outputId": "17234e03-d008-422c-ebca-97c1244f0352",
        "colab": {
          "base_uri": "https://localhost:8080/",
          "height": 34
        }
      },
      "source": [
        "data"
      ],
      "execution_count": 4,
      "outputs": [
        {
          "output_type": "execute_result",
          "data": {
            "text/plain": [
              "[([-4, 2], 1), ([-2, 1], 1), ([-1, -1], -1), ([2, 2], -1), ([1, -2], -1)]"
            ]
          },
          "metadata": {
            "tags": []
          },
          "execution_count": 4
        }
      ]
    },
    {
      "cell_type": "code",
      "metadata": {
        "id": "UkfG4ruh0klT"
      },
      "source": [
        "theta_0, theta_1, theta_2 = 0, 0, 0"
      ],
      "execution_count": 28,
      "outputs": []
    },
    {
      "cell_type": "code",
      "metadata": {
        "id": "9FDwWxOX0_KB",
        "outputId": "296787fa-4311-41c0-db49-532e48597801",
        "colab": {
          "base_uri": "https://localhost:8080/",
          "height": 850
        }
      },
      "source": [
        "for i in range(1, 5):\n",
        "  print(\"Ejecución #{0}\".format(i))\n",
        "  for j in range(len(data)): \n",
        "    print(\"\\tObservation #{0}\".format(j+1))\n",
        "    print(\"\\t{0} * ({1} * {2} + {3} * {4} + {5} <= 0 --> {6} <= 0)\".format(data[j][1], data[j][0][0], theta_1, data[j][0][1], theta_2, theta_0, (data[j][1] * (data[j][0][0] * theta_1 + data[j][0][1] * theta_2 + theta_0)) ) )\n",
        "    if (data[j][1] * (data[j][0][0] * theta_1 + data[j][0][1] * theta_2 + theta_0)) <=0:\n",
        "      theta_0 += data[j][1]\n",
        "      theta_1 += data[j][1] * data[j][0][0]\n",
        "      theta_2 += data[j][1] * data[j][0][1]\n",
        "\n",
        "      print(\"\\t\\tUpdate theta_0: {0}, theta_1: {1}, theta_2: {2}\".format(theta_0, theta_1, theta_2))"
      ],
      "execution_count": 29,
      "outputs": [
        {
          "output_type": "stream",
          "text": [
            "Ejecución #1\n",
            "\tObservation #1\n",
            "\t1 * (-4 * 0 + 2 * 0 + 0 <= 0 --> 0 <= 0)\n",
            "\t\tUpdate theta_0: 1, theta_1: -4, theta_2: 2\n",
            "\tObservation #2\n",
            "\t1 * (-2 * -4 + 1 * 2 + 1 <= 0 --> 11 <= 0)\n",
            "\tObservation #3\n",
            "\t-1 * (-1 * -4 + -1 * 2 + 1 <= 0 --> -3 <= 0)\n",
            "\t\tUpdate theta_0: 0, theta_1: -3, theta_2: 3\n",
            "\tObservation #4\n",
            "\t-1 * (2 * -3 + 2 * 3 + 0 <= 0 --> 0 <= 0)\n",
            "\t\tUpdate theta_0: -1, theta_1: -5, theta_2: 1\n",
            "\tObservation #5\n",
            "\t-1 * (1 * -5 + -2 * 1 + -1 <= 0 --> 8 <= 0)\n",
            "Ejecución #2\n",
            "\tObservation #1\n",
            "\t1 * (-4 * -5 + 2 * 1 + -1 <= 0 --> 21 <= 0)\n",
            "\tObservation #2\n",
            "\t1 * (-2 * -5 + 1 * 1 + -1 <= 0 --> 10 <= 0)\n",
            "\tObservation #3\n",
            "\t-1 * (-1 * -5 + -1 * 1 + -1 <= 0 --> -3 <= 0)\n",
            "\t\tUpdate theta_0: -2, theta_1: -4, theta_2: 2\n",
            "\tObservation #4\n",
            "\t-1 * (2 * -4 + 2 * 2 + -2 <= 0 --> 6 <= 0)\n",
            "\tObservation #5\n",
            "\t-1 * (1 * -4 + -2 * 2 + -2 <= 0 --> 10 <= 0)\n",
            "Ejecución #3\n",
            "\tObservation #1\n",
            "\t1 * (-4 * -4 + 2 * 2 + -2 <= 0 --> 18 <= 0)\n",
            "\tObservation #2\n",
            "\t1 * (-2 * -4 + 1 * 2 + -2 <= 0 --> 8 <= 0)\n",
            "\tObservation #3\n",
            "\t-1 * (-1 * -4 + -1 * 2 + -2 <= 0 --> 0 <= 0)\n",
            "\t\tUpdate theta_0: -3, theta_1: -3, theta_2: 3\n",
            "\tObservation #4\n",
            "\t-1 * (2 * -3 + 2 * 3 + -3 <= 0 --> 3 <= 0)\n",
            "\tObservation #5\n",
            "\t-1 * (1 * -3 + -2 * 3 + -3 <= 0 --> 12 <= 0)\n",
            "Ejecución #4\n",
            "\tObservation #1\n",
            "\t1 * (-4 * -3 + 2 * 3 + -3 <= 0 --> 15 <= 0)\n",
            "\tObservation #2\n",
            "\t1 * (-2 * -3 + 1 * 3 + -3 <= 0 --> 6 <= 0)\n",
            "\tObservation #3\n",
            "\t-1 * (-1 * -3 + -1 * 3 + -3 <= 0 --> 3 <= 0)\n",
            "\tObservation #4\n",
            "\t-1 * (2 * -3 + 2 * 3 + -3 <= 0 --> 3 <= 0)\n",
            "\tObservation #5\n",
            "\t-1 * (1 * -3 + -2 * 3 + -3 <= 0 --> 12 <= 0)\n"
          ],
          "name": "stdout"
        }
      ]
    },
    {
      "cell_type": "code",
      "metadata": {
        "id": "NYlOPQKL1tHS"
      },
      "source": [
        ""
      ],
      "execution_count": null,
      "outputs": []
    }
  ]
}