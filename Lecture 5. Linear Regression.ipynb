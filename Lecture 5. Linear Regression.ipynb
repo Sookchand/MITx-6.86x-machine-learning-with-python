{
  "nbformat": 4,
  "nbformat_minor": 0,
  "metadata": {
    "colab": {
      "name": "Welcome To Colaboratory",
      "provenance": [],
      "collapsed_sections": [],
      "include_colab_link": true
    },
    "kernelspec": {
      "display_name": "Python 3",
      "name": "python3"
    }
  },
  "cells": [
    {
      "cell_type": "markdown",
      "metadata": {
        "id": "view-in-github",
        "colab_type": "text"
      },
      "source": [
        "<a href=\"https://colab.research.google.com/github/mlaricobar/MITx-6.86x-machine-learning-with-python/blob/master/Lecture%205.%20Linear%20Regression.ipynb\" target=\"_parent\"><img src=\"https://colab.research.google.com/assets/colab-badge.svg\" alt=\"Open In Colab\"/></a>"
      ]
    },
    {
      "cell_type": "code",
      "metadata": {
        "id": "KAZvJ0SeroMq"
      },
      "source": [
        "import numpy as np"
      ],
      "execution_count": 1,
      "outputs": []
    },
    {
      "cell_type": "markdown",
      "metadata": {
        "id": "Cuu-LdQhtDxZ"
      },
      "source": [
        "### Compute Hinge Loss"
      ]
    },
    {
      "cell_type": "code",
      "metadata": {
        "id": "6eKrldJYq0yz"
      },
      "source": [
        "x = np.array([[1, 0, 1], [1, 1, 1], [1, 1, -1], [-1, 1, 1]])\n",
        "y = np.array([2, 2.7, -0.7, 2])\n",
        "theta = np.array([0, 1, 2])"
      ],
      "execution_count": 4,
      "outputs": []
    },
    {
      "cell_type": "code",
      "metadata": {
        "id": "S8iwbSJSqzJD"
      },
      "source": [
        "hinge_loss = np.vectorize(lambda z: 0 if z >= 1 else 1 - z)"
      ],
      "execution_count": 8,
      "outputs": []
    },
    {
      "cell_type": "code",
      "metadata": {
        "id": "GaWt-1jcq0vw",
        "outputId": "1878c05e-127f-4aac-ee2f-8cde2f89cc01",
        "colab": {
          "base_uri": "https://localhost:8080/",
          "height": 34
        }
      },
      "source": [
        "y - np.dot(x, theta.T)"
      ],
      "execution_count": 6,
      "outputs": [
        {
          "output_type": "execute_result",
          "data": {
            "text/plain": [
              "array([ 0. , -0.3,  0.3, -1. ])"
            ]
          },
          "metadata": {
            "tags": []
          },
          "execution_count": 6
        }
      ]
    },
    {
      "cell_type": "code",
      "metadata": {
        "id": "posQ-rZ-srsl",
        "outputId": "59946d1d-c816-4b2e-96ea-4eeb7f95cafd",
        "colab": {
          "base_uri": "https://localhost:8080/",
          "height": 34
        }
      },
      "source": [
        "np.average(hinge_loss(y - np.dot(x, theta.T)))"
      ],
      "execution_count": 10,
      "outputs": [
        {
          "output_type": "execute_result",
          "data": {
            "text/plain": [
              "1.25"
            ]
          },
          "metadata": {
            "tags": []
          },
          "execution_count": 10
        }
      ]
    },
    {
      "cell_type": "markdown",
      "metadata": {
        "id": "tdMCGYmTtHgs"
      },
      "source": [
        "### Compute Squared Error Loss"
      ]
    },
    {
      "cell_type": "code",
      "metadata": {
        "id": "ewTyvwNmsxZx"
      },
      "source": [
        ""
      ],
      "execution_count": null,
      "outputs": []
    }
  ]
}